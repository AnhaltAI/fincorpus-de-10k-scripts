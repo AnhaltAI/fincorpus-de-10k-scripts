{
 "cells": [
  {
   "cell_type": "code",
   "execution_count": 1,
   "id": "eea3dfdb-f7ae-44d4-93d4-5a04738f205f",
   "metadata": {
    "tags": []
   },
   "outputs": [
    {
     "ename": "NameError",
     "evalue": "name 'home' is not defined",
     "output_type": "error",
     "traceback": [
      "\u001b[0;31m------------------------------------------------------------------\u001b[0m",
      "\u001b[0;31mNameError\u001b[0m                        Traceback (most recent call last)",
      "Cell \u001b[0;32mIn[1], line 1\u001b[0m\n\u001b[0;32m----> 1\u001b[0m \u001b[43mhome\u001b[49m\u001b[38;5;241m/\u001b[39msh\u001b[38;5;241m/\u001b[39mhsa\u001b[38;5;241m/\u001b[39mpapers\u001b[38;5;241m/\u001b[39mdataset\u001b[38;5;241m/\u001b[39msafe_corpus\u001b[38;5;241m/\u001b[39mmetadata\u001b[38;5;241m.\u001b[39mcsv()\n",
      "\u001b[0;31mNameError\u001b[0m: name 'home' is not defined"
     ]
    }
   ],
   "source": []
  },
  {
   "cell_type": "code",
   "execution_count": 12,
   "id": "9e528b29-2f83-4d14-9969-958ee6b4c734",
   "metadata": {
    "tags": []
   },
   "outputs": [
    {
     "name": "stderr",
     "output_type": "stream",
     "text": [
      "/tmp/ipykernel_1349754/1335797920.py:11: DeprecationWarning: Importing display from IPython.core.display is deprecated since IPython 7.14, please import from IPython display\n",
      "  from IPython.core.display import display, HTML\n"
     ]
    },
    {
     "data": {
      "text/html": [
       "<style>.container { width:100% !important; }</style>"
      ],
      "text/plain": [
       "<IPython.core.display.HTML object>"
      ]
     },
     "metadata": {},
     "output_type": "display_data"
    },
    {
     "name": "stdout",
     "output_type": "stream",
     "text": [
      "The jupyter_black extension is already loaded. To reload it, use:\n",
      "  %reload_ext jupyter_black\n"
     ]
    }
   ],
   "source": [
    "from pathlib import Path\n",
    "\n",
    "import pandas as pd\n",
    "import seaborn as sns\n",
    "import matplotlib.pyplot as plt\n",
    "\n",
    "INTERACTIVE_TABLES = False\n",
    "USE_BLACK = True\n",
    "\n",
    "# 100% width table\n",
    "from IPython.core.display import display, HTML\n",
    "\n",
    "display(HTML(\"<style>.container { width:100% !important; }</style>\"))\n",
    "\n",
    "if INTERACTIVE_TABLES:\n",
    "    from itables import init_notebook_mode\n",
    "\n",
    "    init_notebook_mode(all_interactive=True, connected=True)\n",
    "\n",
    "# black formatting\n",
    "if USE_BLACK:\n",
    "    %load_ext jupyter_black\n",
    "\n",
    "# column/row limits removal\n",
    "pd.set_option(\"display.max_columns\", None)\n",
    "pd.set_option(\"display.max_rows\", 100)\n",
    "\n",
    "# figsize is figsize\n",
    "plt.rcParams[\"figure.figsize\"] = (6, 8)\n",
    "plt.rcParams[\"figure.dpi\"] = 100\n",
    "\n",
    "# CHANGEME\n",
    "PATH_STR = \"/home/sh/hsa/papers/dataset/safe_corpus/metadata_fromfull.csv\"\n",
    "\n",
    "PATH = Path(PATH_STR)\n",
    "assert PATH.exists()"
   ]
  },
  {
   "cell_type": "code",
   "execution_count": 13,
   "id": "4bfe8487-7da4-49f2-9f0d-fe612fb84728",
   "metadata": {
    "tags": []
   },
   "outputs": [],
   "source": [
    "# manually delete the IFRS+InfoMaterials collections directories from the corpus\n",
    "# now what remains is just filtering out the metadata"
   ]
  },
  {
   "cell_type": "code",
   "execution_count": 14,
   "id": "c9cf36eb-c729-4f87-84db-fe7f602f567d",
   "metadata": {
    "tags": []
   },
   "outputs": [
    {
     "data": {
      "text/html": [
       "<div>\n",
       "<style scoped>\n",
       "    .dataframe tbody tr th:only-of-type {\n",
       "        vertical-align: middle;\n",
       "    }\n",
       "\n",
       "    .dataframe tbody tr th {\n",
       "        vertical-align: top;\n",
       "    }\n",
       "\n",
       "    .dataframe thead th {\n",
       "        text-align: right;\n",
       "    }\n",
       "</style>\n",
       "<table border=\"1\" class=\"dataframe\">\n",
       "  <thead>\n",
       "    <tr style=\"text-align: right;\">\n",
       "      <th></th>\n",
       "      <th>pdf_fn</th>\n",
       "      <th>txt_fn</th>\n",
       "      <th>collection</th>\n",
       "      <th>num_pages</th>\n",
       "      <th>num_chars</th>\n",
       "      <th>num_tokens</th>\n",
       "      <th>num_sentences</th>\n",
       "      <th>token_len</th>\n",
       "      <th>sentence_len</th>\n",
       "      <th>tokens_per_page</th>\n",
       "      <th>ISIN</th>\n",
       "      <th>country</th>\n",
       "      <th>pdf_only</th>\n",
       "      <th>language</th>\n",
       "      <th>source_fn</th>\n",
       "      <th>is_empty</th>\n",
       "    </tr>\n",
       "  </thead>\n",
       "  <tbody>\n",
       "    <tr>\n",
       "      <th>0</th>\n",
       "      <td>pdf/Final_terms/DE000HLB7C13.pdf</td>\n",
       "      <td>txt/Final_terms/DE000HLB7C13.pdf.txt</td>\n",
       "      <td>Final_terms</td>\n",
       "      <td>19</td>\n",
       "      <td>54319.0</td>\n",
       "      <td>8365.0</td>\n",
       "      <td>340.0</td>\n",
       "      <td>6.493604</td>\n",
       "      <td>24.602941</td>\n",
       "      <td>440.263158</td>\n",
       "      <td>DE000HLB7C13</td>\n",
       "      <td>DE</td>\n",
       "      <td>False</td>\n",
       "      <td>DE</td>\n",
       "      <td>Final_terms/Country_of_origin_DE/lang_DE_EN/DE...</td>\n",
       "      <td>NaN</td>\n",
       "    </tr>\n",
       "    <tr>\n",
       "      <th>1</th>\n",
       "      <td>pdf/Final_terms/DE000NWB2ME7.pdf</td>\n",
       "      <td>txt/Final_terms/DE000NWB2ME7.pdf.txt</td>\n",
       "      <td>Final_terms</td>\n",
       "      <td>14</td>\n",
       "      <td>23605.0</td>\n",
       "      <td>4354.0</td>\n",
       "      <td>183.0</td>\n",
       "      <td>5.421452</td>\n",
       "      <td>23.792350</td>\n",
       "      <td>311.000000</td>\n",
       "      <td>DE000NWB2ME7</td>\n",
       "      <td>DE</td>\n",
       "      <td>False</td>\n",
       "      <td>EN,DE</td>\n",
       "      <td>Final_terms/Country_of_origin_DE/lang_DE_EN/DE...</td>\n",
       "      <td>NaN</td>\n",
       "    </tr>\n",
       "    <tr>\n",
       "      <th>2</th>\n",
       "      <td>pdf/Final_terms/DE000DFK0TS8.pdf</td>\n",
       "      <td>txt/Final_terms/DE000DFK0TS8.pdf.txt</td>\n",
       "      <td>Final_terms</td>\n",
       "      <td>25</td>\n",
       "      <td>70180.0</td>\n",
       "      <td>12733.0</td>\n",
       "      <td>748.0</td>\n",
       "      <td>5.511663</td>\n",
       "      <td>17.022727</td>\n",
       "      <td>509.320000</td>\n",
       "      <td>DE000DFK0TS8</td>\n",
       "      <td>DE</td>\n",
       "      <td>False</td>\n",
       "      <td>EN,DE</td>\n",
       "      <td>Final_terms/Country_of_origin_DE/lang_DE_EN/DE...</td>\n",
       "      <td>NaN</td>\n",
       "    </tr>\n",
       "    <tr>\n",
       "      <th>3</th>\n",
       "      <td>pdf/Final_terms/DE000LB2CZ54.pdf</td>\n",
       "      <td>txt/Final_terms/DE000LB2CZ54.pdf.txt</td>\n",
       "      <td>Final_terms</td>\n",
       "      <td>15</td>\n",
       "      <td>46594.0</td>\n",
       "      <td>7544.0</td>\n",
       "      <td>291.0</td>\n",
       "      <td>6.176299</td>\n",
       "      <td>25.924399</td>\n",
       "      <td>502.933333</td>\n",
       "      <td>DE000LB2CZ54</td>\n",
       "      <td>DE</td>\n",
       "      <td>False</td>\n",
       "      <td>DE</td>\n",
       "      <td>Final_terms/Country_of_origin_DE/lang_DE_EN/DE...</td>\n",
       "      <td>NaN</td>\n",
       "    </tr>\n",
       "    <tr>\n",
       "      <th>4</th>\n",
       "      <td>pdf/Final_terms/DE000BLB80W4.pdf</td>\n",
       "      <td>txt/Final_terms/DE000BLB80W4.pdf.txt</td>\n",
       "      <td>Final_terms</td>\n",
       "      <td>25</td>\n",
       "      <td>59569.0</td>\n",
       "      <td>9578.0</td>\n",
       "      <td>350.0</td>\n",
       "      <td>6.219357</td>\n",
       "      <td>27.365714</td>\n",
       "      <td>383.120000</td>\n",
       "      <td>DE000BLB80W4</td>\n",
       "      <td>DE</td>\n",
       "      <td>False</td>\n",
       "      <td>DE</td>\n",
       "      <td>Final_terms/Country_of_origin_DE/lang_DE_EN/DE...</td>\n",
       "      <td>NaN</td>\n",
       "    </tr>\n",
       "  </tbody>\n",
       "</table>\n",
       "</div>"
      ],
      "text/plain": [
       "                             pdf_fn                                txt_fn  \\\n",
       "0  pdf/Final_terms/DE000HLB7C13.pdf  txt/Final_terms/DE000HLB7C13.pdf.txt   \n",
       "1  pdf/Final_terms/DE000NWB2ME7.pdf  txt/Final_terms/DE000NWB2ME7.pdf.txt   \n",
       "2  pdf/Final_terms/DE000DFK0TS8.pdf  txt/Final_terms/DE000DFK0TS8.pdf.txt   \n",
       "3  pdf/Final_terms/DE000LB2CZ54.pdf  txt/Final_terms/DE000LB2CZ54.pdf.txt   \n",
       "4  pdf/Final_terms/DE000BLB80W4.pdf  txt/Final_terms/DE000BLB80W4.pdf.txt   \n",
       "\n",
       "    collection  num_pages  num_chars  num_tokens  num_sentences  token_len  \\\n",
       "0  Final_terms         19    54319.0      8365.0          340.0   6.493604   \n",
       "1  Final_terms         14    23605.0      4354.0          183.0   5.421452   \n",
       "2  Final_terms         25    70180.0     12733.0          748.0   5.511663   \n",
       "3  Final_terms         15    46594.0      7544.0          291.0   6.176299   \n",
       "4  Final_terms         25    59569.0      9578.0          350.0   6.219357   \n",
       "\n",
       "   sentence_len  tokens_per_page          ISIN country  pdf_only language  \\\n",
       "0     24.602941       440.263158  DE000HLB7C13      DE     False       DE   \n",
       "1     23.792350       311.000000  DE000NWB2ME7      DE     False    EN,DE   \n",
       "2     17.022727       509.320000  DE000DFK0TS8      DE     False    EN,DE   \n",
       "3     25.924399       502.933333  DE000LB2CZ54      DE     False       DE   \n",
       "4     27.365714       383.120000  DE000BLB80W4      DE     False       DE   \n",
       "\n",
       "                                           source_fn is_empty  \n",
       "0  Final_terms/Country_of_origin_DE/lang_DE_EN/DE...      NaN  \n",
       "1  Final_terms/Country_of_origin_DE/lang_DE_EN/DE...      NaN  \n",
       "2  Final_terms/Country_of_origin_DE/lang_DE_EN/DE...      NaN  \n",
       "3  Final_terms/Country_of_origin_DE/lang_DE_EN/DE...      NaN  \n",
       "4  Final_terms/Country_of_origin_DE/lang_DE_EN/DE...      NaN  "
      ]
     },
     "execution_count": 14,
     "metadata": {},
     "output_type": "execute_result"
    }
   ],
   "source": [
    "df = pd.read_csv(PATH)\n",
    "df.head()"
   ]
  },
  {
   "cell_type": "code",
   "execution_count": 15,
   "id": "dd3251dd-0723-4dcf-82cd-01b42d5dc154",
   "metadata": {
    "tags": []
   },
   "outputs": [
    {
     "data": {
      "text/plain": [
       "array(['Final_terms', 'Law', 'Informational_materials', 'BBK_monthly',\n",
       "       'Annual_reports', 'Base_prospectuses', 'IFRS'], dtype=object)"
      ]
     },
     "execution_count": 15,
     "metadata": {},
     "output_type": "execute_result"
    }
   ],
   "source": [
    "df.collection.unique()"
   ]
  },
  {
   "cell_type": "code",
   "execution_count": 16,
   "id": "6c90be89-d006-479d-9d64-131addb86ee1",
   "metadata": {
    "tags": []
   },
   "outputs": [],
   "source": [
    "df = df[~df.collection.isin([\"IFRS\", \"Informational_materials\"])]"
   ]
  },
  {
   "cell_type": "code",
   "execution_count": 17,
   "id": "d5814c94-2f28-4473-88ff-da55b22a3b44",
   "metadata": {
    "tags": []
   },
   "outputs": [],
   "source": [
    "OUTPUT_PATH = Path(\"/home/sh/hsa/papers/dataset/safe_corpus/metadata.csv\")"
   ]
  },
  {
   "cell_type": "code",
   "execution_count": 18,
   "id": "e52854d7-fdbf-4486-adc9-bed000e145ec",
   "metadata": {
    "tags": []
   },
   "outputs": [],
   "source": [
    "df.to_csv(OUTPUT_PATH, index=False)"
   ]
  },
  {
   "cell_type": "code",
   "execution_count": null,
   "id": "ab22ff68-5b82-44ec-b44e-58396f0fbd10",
   "metadata": {},
   "outputs": [],
   "source": []
  }
 ],
 "metadata": {
  "kernelspec": {
   "display_name": "Python 3 (ipykernel)",
   "language": "python",
   "name": "python3"
  },
  "language_info": {
   "codemirror_mode": {
    "name": "ipython",
    "version": 3
   },
   "file_extension": ".py",
   "mimetype": "text/x-python",
   "name": "python",
   "nbconvert_exporter": "python",
   "pygments_lexer": "ipython3",
   "version": "3.8.10"
  }
 },
 "nbformat": 4,
 "nbformat_minor": 5
}
